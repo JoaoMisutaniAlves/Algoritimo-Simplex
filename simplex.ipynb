{
 "metadata": {
  "language_info": {
   "codemirror_mode": {
    "name": "ipython",
    "version": 3
   },
   "file_extension": ".py",
   "mimetype": "text/x-python",
   "name": "python",
   "nbconvert_exporter": "python",
   "pygments_lexer": "ipython3",
   "version": "3.8.3-final"
  },
  "orig_nbformat": 2,
  "kernelspec": {
   "name": "python38364bitvenvvenv890a6352c87248dbad64d2a6fe68f858",
   "display_name": "Python 3.8.3 64-bit ('venv': venv)"
  }
 },
 "nbformat": 4,
 "nbformat_minor": 2,
 "cells": [
  {
   "cell_type": "markdown",
   "metadata": {},
   "source": [
    "# Algoritimo Simplex utilizando Python and Numpy. #"
   ]
  },
  {
   "cell_type": "markdown",
   "metadata": {},
   "source": [
    "Simplex é um método Iterativo para solução de problemas de Otimização Linear, com um número finito de passos leva à solução ótima do problema."
   ]
  },
  {
   "cell_type": "markdown",
   "metadata": {},
   "source": [
    "## Algoritmo do Método Simplex ##"
   ]
  },
  {
   "cell_type": "markdown",
   "metadata": {},
   "source": [
    "### Para a resolução de um problema usando simplex são utilizados os seguintes passos: ###\n",
    "1. Adicionar variáveis de folga para cada uma das desigualdades;\n",
    "2. Montar uma tabela para os cálculos, colocando todos os coeficientes das restrições e da função objetivo modificada;\n",
    "3. Determinar uma solução básica factível inicial e/ou verificar se a solução é ótima, se todos os valores da linha correspondente à função objetivo são positivos ou nulos, então a solução atual é ótima;\n",
    "4. Verificar qual variável entra na base, uma candidata a entrar na base é a variável que apresenta o valor mais negativo na linha da função objetivo. Isto é, apresenta maior contribuição para o aumento da do valor da função objetivo. Esta será a coluna pivô;\n",
    "5. Determinar o elemento que sai da base, dividir os\n",
    "valores da coluna b, pelos valores das respectivas\n",
    "variáveis na coluna pivô. A variável referente ao menor\n",
    "valor da divisão será a que sairá da base.\n",
    "6. Recalcular a tabela fazendo com que a coluna\n",
    "referente à variável que entra na base se torne uma coluna\n",
    "identidade, idêntica à coluna da variável que sai da base.\n",
    "7. Retornar ao Passo **3**."
   ]
  },
  {
   "cell_type": "markdown",
   "metadata": {},
   "source": [
    "## Simplex - AC1 ##\n",
    "\n",
    "Agora introduzido no assunto é o momento de entender o propózito deste código.\n",
    "Temos como objetivo escrever um código que calcule o método **Simplex** para problemas de **maximização**, que tem como objetivo a avaliação dos integrantes envolvidos. \n",
    "\n",
    "**Linguagem de programação utilizada:** Python\n",
    "\n",
    "**Entregáveis:**\n",
    "- código-fonte;\n",
    "- notebook com código comentado.\n",
    "\n",
    "**Arquivo de entrada:**\n",
    "\n",
    "- deve respeitar o formato padrão desse [exemplo de entrada](./exemplo_01_entrada.txt), sabendo que TODAS as restrições possuem sinal de menor ou igual (<=);\n",
    "- considerar que o arquivo de entrada estará sempre na mesma pasta que o código."
   ]
  },
  {
   "cell_type": "markdown",
   "metadata": {},
   "source": [
    "## Código explicado ##"
   ]
  },
  {
   "cell_type": "markdown",
   "metadata": {},
   "source": [
    "1. Será necessário um metodo de leitura de arquivo para a entrada dos dados:\n",
    "> Considerando que o arquivo que será lido esá na pasta raiz e que existe apenas um arquivo `.txt` "
   ]
  },
  {
   "cell_type": "code",
   "execution_count": 1,
   "metadata": {
    "tags": []
   },
   "outputs": [],
   "source": [
    "import os\n",
    "\n",
    "def leitura_arquivo():\n",
    "    linhas = []\n",
    "    arquivos = os.listdir('.')\n",
    "    for f in arquivos:\n",
    "        if f.endswith(\".txt\"):\n",
    "            f = open(f)\n",
    "            for linha in f:\n",
    "                linhas.append(linha.replace(\"\\n\", \"\").split(\" \"))\n",
    "    variaveis = len(linhas[0])\n",
    "    restricoes = len(linhas) - 1\n",
    "    return linhas, variaveis, restricoes"
   ]
  },
  {
   "cell_type": "markdown",
   "metadata": {},
   "source": [
    "2. Com os valores obtidos com o arquivo será gerado uma matriz numpy com linhas suficientes para cada restrição mais a função objetivo e colunas suficientes para as variáveis, variáveis de folga, M (máx.) E o valor correspondente."
   ]
  },
  {
   "cell_type": "code",
   "execution_count": 2,
   "metadata": {
    "tags": []
   },
   "outputs": [],
   "source": [
    "import numpy as np\n",
    "\n",
    "def geracao_tabela(variaveis, restricoes):\n",
    "    tabela = np.zeros((restricoes + 1, variaveis + restricoes + 2))\n",
    "    return tabela"
   ]
  },
  {
   "cell_type": "markdown",
   "metadata": {},
   "source": [
    "3. Agora que a tabela está montada é hora de preparar a função objetivo e as restrições. "
   ]
  },
  {
   "cell_type": "code",
   "execution_count": 3,
   "metadata": {},
   "outputs": [],
   "source": [
    "def obtem_objetivo_restricoes(linhas):\n",
    "    objetive = []\n",
    "    restricoes = []\n",
    "    for linha in linhas:\n",
    "        if linhas.index(linha) == 0:\n",
    "            objetive = linha\n",
    "        else:\n",
    "            restricoes.append(linha)\n",
    "    return objetive, restricoes"
   ]
  },
  {
   "cell_type": "markdown",
   "metadata": {},
   "source": [
    "4. Os valores obtidos no arquivo deveram ser convertidos de string em variáveis ​​float"
   ]
  },
  {
   "cell_type": "code",
   "execution_count": 4,
   "metadata": {},
   "outputs": [],
   "source": [
    "def converter(equacao):\n",
    "    equacao = [float(valor) for valor in equacao]\n",
    "    return equacao"
   ]
  },
  {
   "cell_type": "markdown",
   "metadata": {},
   "source": [
    "5. Com esses valores do arquivo e com o metodo escrito anteriormente, agora é o momento de preencher as restrições do problema na tabela. "
   ]
  },
  {
   "cell_type": "code",
   "execution_count": 5,
   "metadata": {},
   "outputs": [],
   "source": [
    "def preencher_restricoes(tabela,restricoes):\n",
    "    for restricao in restricoes:\n",
    "        quant_colunas = len(tabela[0, :])\n",
    "        quant_linhas = len(tabela[:, 0])\n",
    "        valores_tabela = quant_colunas - quant_linhas -1\n",
    "        j = 0\n",
    "        while j < quant_linhas:\n",
    "            verifica = tabela[j, :]\n",
    "            total = 0\n",
    "            for i in verifica:\n",
    "                total += float(i ** 2)\n",
    "            if total == 0:\n",
    "                linha = verifica\n",
    "                break\n",
    "            j += 1\n",
    "        restricao = converter(restricao)\n",
    "        i = 0\n",
    "        while i < len(restricao) - 1:\n",
    "            linha[i] = restricao[i]\n",
    "            i += 1\n",
    "        linha[-1] = restricao[-1]\n",
    "        linha[valores_tabela + j] = 1"
   ]
  },
  {
   "cell_type": "markdown",
   "metadata": {},
   "source": [
    "6. Com a tabela já preenchida com as restrições é hora de adicionar a função objetivo à tabela."
   ]
  },
  {
   "cell_type": "code",
   "execution_count": 6,
   "metadata": {},
   "outputs": [],
   "source": [
    "def preencher_objetivo(tabela,equacao):\n",
    "    equacao = converter(equacao)\n",
    "    quant_linhas = len(tabela[:, 0])\n",
    "    linha = tabela[quant_linhas - 1, :]\n",
    "    for i in range(len(equacao)):\n",
    "        linha[i] = equacao[i] * -1\n",
    "    linha[-2] = 1"
   ]
  },
  {
   "cell_type": "markdown",
   "metadata": {},
   "source": [
    "7. Seguindo os passos para a resolução de um problema utilizando simplex, com os passos `1` e `2` já finalizados, seguindo então para o paso `3` para verificar se todos os valores da linha correspondente à função objetivo são positivos ou nulos."
   ]
  },
  {
   "cell_type": "code",
   "execution_count": 7,
   "metadata": {},
   "outputs": [],
   "source": [
    "def valida_func_linha_objetivo(tabela):\n",
    "    quant_linhas = len(tabela[:, 0])\n",
    "    m = min(tabela[quant_linhas - 1, :-1])\n",
    "    if m >= 0:\n",
    "        return False\n",
    "    else:\n",
    "        return True"
   ]
  },
  {
   "cell_type": "markdown",
   "metadata": {},
   "source": [
    "8. Seguindo então com a resolução, agora é hora de verificar qual variável entra na base, uma candidata a entrar na base é a variável que apresenta o valor mais negativo na linha da função objetivo. Isto é, apresenta maior contribuição para o aumento do valor da função objetivo. Esta será a coluna pivô."
   ]
  },
  {
   "source": [
    "8.1. Primeiramente deve-se validar de ainda existem valores nulos ou negativos."
   ],
   "cell_type": "markdown",
   "metadata": {}
  },
  {
   "cell_type": "code",
   "execution_count": 8,
   "metadata": {},
   "outputs": [],
   "source": [
    "def valida_func_coluna_objetivo(tabela):\n",
    "    m = min(tabela[:-1, -1])\n",
    "    if m >= 0:\n",
    "        return False\n",
    "    else:\n",
    "        return True"
   ]
  },
  {
   "cell_type": "markdown",
   "metadata": {},
   "source": [
    "8.2. Feito isso é necessário localizar o elemento negativo na linha da função objetivo."
   ]
  },
  {
   "cell_type": "code",
   "execution_count": 9,
   "metadata": {},
   "outputs": [],
   "source": [
    "def elemento_negativo_func_coluna_objetivo(tabela):\n",
    "    quant_linhas = len(tabela[:, 0])\n",
    "    m = min(tabela[quant_linhas - 1, :-1])\n",
    "    if m <= 0:\n",
    "        n = np.where(tabela[quant_linhas - 1, :-1] == m)[0][0]\n",
    "    else:\n",
    "        n = None\n",
    "    return n"
   ]
  },
  {
   "cell_type": "markdown",
   "metadata": {},
   "source": [
    "9. Com isso é o momento de determinar o elemento que sai da base, dividir os valores da coluna b, pelos valores das respectivas variáveis na coluna pivô. A variável referente ao menor valor da divisão será a que sairá da base."
   ]
  },
  {
   "cell_type": "code",
   "execution_count": 10,
   "metadata": {},
   "outputs": [],
   "source": [
    "def localizar_pivo(tabela):\n",
    "    if valida_func_linha_objetivo(tabela):\n",
    "        total = []\n",
    "        n = elemento_negativo_func_coluna_objetivo(tabela)\n",
    "        for i, b in zip(tabela[:-1, n], tabela[:-1, -1]):\n",
    "            if b/i > 0 and i ** 2 > 0:\n",
    "                total.append(b / i)\n",
    "            else:\n",
    "                total.append(None)\n",
    "        m = min(filter(lambda x: x is not None, total))\n",
    "        index = total.index(m)\n",
    "        return [index, n]"
   ]
  },
  {
   "cell_type": "markdown",
   "metadata": {},
   "source": [
    "10. Recalcular a tabela fazendo com que a coluna referente à variável que entra na base se torne uma coluna identidade, idêntica à coluna da variável que sai da base. O que será preciso fazer no final e retornar a tabela atualizada."
   ]
  },
  {
   "cell_type": "code",
   "execution_count": 11,
   "metadata": {},
   "outputs": [],
   "source": [
    "def pivo(linha, coluna, tabela):\n",
    "    quant_linhas = len(tabela[:, 0])\n",
    "    quant_colunas = len(tabela[0, :])\n",
    "    tabela_imagem = np.zeros((quant_linhas, quant_colunas))\n",
    "    linha_transformacao = tabela[linha, :]\n",
    "    if tabela[linha, coluna] ** 2 > 0:\n",
    "        valor = 1 / tabela[linha, coluna]\n",
    "        linha_transformada = linha_transformacao * valor\n",
    "        for i in range(len(tabela[:, coluna])):\n",
    "            k = tabela[i, :]\n",
    "            c = tabela[i, coluna]\n",
    "            if list(k) == list(linha_transformacao):\n",
    "                continue\n",
    "            else:\n",
    "                tabela_imagem[i, :] = list(k - linha_transformada * c)\n",
    "        tabela_imagem[linha, :] = list(linha_transformada)\n",
    "    return tabela_imagem"
   ]
  },
  {
   "cell_type": "markdown",
   "metadata": {},
   "source": [
    "11. Esta será uma função que irá gerar o número necessário de variáveis ​​x1, x2,… xn. "
   ]
  },
  {
   "cell_type": "code",
   "execution_count": 12,
   "metadata": {},
   "outputs": [],
   "source": [
    "def gerar_variaveis(tabela):\n",
    "    quant_colunas = len(tabela[0, :])\n",
    "    quant_linhas = len(tabela[:, 0])\n",
    "    variaveis = quant_colunas - quant_linhas -1\n",
    "    lista_variaveis = []\n",
    "    for i in range(variaveis):\n",
    "        lista_variaveis.append('x' + str(i +1))\n",
    "    return lista_variaveis"
   ]
  },
  {
   "cell_type": "markdown",
   "metadata": {},
   "source": [
    "Agora, agradeça a si mesmo por sua incrível paciência - finalmente é hora de colocar todos os blocos de construção juntos e criar as funções de maximização e minimização! Essas funções parecerão muito semelhantes, ambas usarão loops while para determinar se 1+ pivô é necessário, localize o elemento pivô, gire sobre ele e continue o processo até que todos os elementos negativos tenham sido removidos da última coluna e linha. Em seguida, as variáveis serão geradas para x1 a xn e valores atribuídos de acordo com suas posições no quadro. Além disso, max receberá seu valor apropriado. Por último, a função retornará o máximo e as variáveis na forma de dicionário."
   ]
  },
  {
   "cell_type": "code",
   "execution_count": 13,
   "metadata": {},
   "outputs": [],
   "source": [
    "def maximizacao(linhas, variaveis, restricoes):\n",
    "    tabela = geracao_tabela(variaveis, restricoes)\n",
    "    objetive, restricoes = obtem_objetivo_restricoes(linhas)\n",
    "    preencher_restricoes(tabela,restricoes)\n",
    "    preencher_objetivo(tabela,objetive)\n",
    "    while valida_func_linha_objetivo(tabela) == True:\n",
    "        tabela = pivo(localizar_pivo(tabela)[0], localizar_pivo(tabela)[1], tabela)\n",
    "    quant_colunas = len(tabela[0, :])\n",
    "    quant_linhas = len(tabela[:, 0])\n",
    "    quant_var = quant_colunas - quant_linhas -1\n",
    "    i = 0\n",
    "    valores = {}\n",
    "    for i in range(quant_var):\n",
    "        coluna = tabela[:, i]\n",
    "        soma = sum(coluna)\n",
    "        maximo = max(coluna)\n",
    "        if float(soma) == float(maximo):\n",
    "            valor_localizado = np.where(coluna == maximo)[0][0]\n",
    "            valores[gerar_variaveis(tabela)[i]] = tabela[valor_localizado, -1]\n",
    "        else:\n",
    "            valores[gerar_variaveis(tabela)[i]] = 0\n",
    "    valores['maximo'] = tabela[-1, -1]\n",
    "    return valores"
   ]
  },
  {
   "source": [
    "12. Escrita dos resultados no arquivo"
   ],
   "cell_type": "markdown",
   "metadata": {}
  },
  {
   "cell_type": "code",
   "execution_count": 14,
   "metadata": {},
   "outputs": [],
   "source": [
    "def escrita_arquivo(resultado):\n",
    "    linhas = []\n",
    "    arquivos = os.listdir(\".\")\n",
    "    for f in arquivos:\n",
    "        if f.endswith(\".txt\"):\n",
    "            f = open(f, \"a+\")\n",
    "            f.write(\"\\n\")\n",
    "            f.write(str(resultado))\n",
    "            f.close()"
   ]
  },
  {
   "cell_type": "code",
   "execution_count": 15,
   "metadata": {
    "tags": []
   },
   "outputs": [
    {
     "output_type": "stream",
     "name": "stdout",
     "text": "{'x1': 2.0, 'x2': 6.0, 'maximo': 36.0}\n"
    }
   ],
   "source": [
    "if __name__ == \"__main__\":\n",
    "    linhas, variaveis, restricoes = leitura_arquivo()\n",
    "    valores = maximizacao(linhas, variaveis, restricoes)\n",
    "    print(valores)\n",
    "    escrita_arquivo(valores)"
   ]
  }
 ]
}