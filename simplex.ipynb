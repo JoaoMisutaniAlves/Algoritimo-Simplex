{
 "metadata": {
  "language_info": {
   "codemirror_mode": {
    "name": "ipython",
    "version": 3
   },
   "file_extension": ".py",
   "mimetype": "text/x-python",
   "name": "python",
   "nbconvert_exporter": "python",
   "pygments_lexer": "ipython3",
   "version": "3.8.3-final"
  },
  "orig_nbformat": 2,
  "kernelspec": {
   "name": "python38364bitvenvvenv890a6352c87248dbad64d2a6fe68f858",
   "display_name": "Python 3.8.3 64-bit ('venv': venv)"
  }
 },
 "nbformat": 4,
 "nbformat_minor": 2,
 "cells": [
  {
   "cell_type": "markdown",
   "metadata": {},
   "source": [
    "# Algoritimo Simplex utilizando Python and Numpy. #"
   ]
  },
  {
   "cell_type": "markdown",
   "metadata": {},
   "source": [
    "Simplex é um método Iterativo para solução de problemas de Otimização Linear, com um número finito de passos leva à solução ótima do problema."
   ]
  },
  {
   "cell_type": "markdown",
   "metadata": {},
   "source": [
    "## Algoritmo do Método Simplex ##"
   ]
  },
  {
   "cell_type": "markdown",
   "metadata": {},
   "source": [
    "### Para a resolução de um problema usando simplex são utilizados os seguintes passos: ###\n",
    "1. Adicionar variáveis de folga para cada uma das desigualdades;\n",
    "2. Montar uma tabela para os cálculos, colocando todos os coeficientes das restrições e da função objetivo modificada;\n",
    "3. Determinar uma solução básica factível inicial e/ou verificar se a solução é ótima, se todos os valores da linha correspondente à função objetivo são positivos ou nulos, então a solução atual é ótima;\n",
    "4. Verificar qual variável entra na base, uma candidata a entrar na base é a variável que apresenta o valor mais negativo na linha da função objetivo. Isto é, apresenta maior contribuição para o aumento da do valor da função objetivo. Esta será a coluna pivô;\n",
    "5. Determinar o elemento que sai da base, dividir os\n",
    "valores da coluna b, pelos valores das respectivas\n",
    "variáveis na coluna pivô. A variável referente ao menor\n",
    "valor da divisão será a que sairá da base.\n",
    "6. Recalcular a tabela fazendo com que a coluna\n",
    "referente à variável que entra na base se torne uma coluna\n",
    "identidade, idêntica à coluna da variável que sai da base.\n",
    "7. Retornar ao Passo **3**."
   ]
  },
  {
   "cell_type": "markdown",
   "metadata": {},
   "source": [
    "## Simplex - AC1 ##\n",
    "\n",
    "Agora introduzido no assunto é o momento de entender o propózito deste código.\n",
    "Temos como objetivo escrever um código que calcule o método **Simplex** para problemas de **maximização**, que tem como objetivo a avaliação dos integrantes envolvidos. \n",
    "\n",
    "**Linguagem de programação utilizada:** Python\n",
    "\n",
    "**Entregáveis:**\n",
    "- código-fonte;\n",
    "- notebook com código comentado.\n",
    "\n",
    "**Arquivo de entrada:**\n",
    "\n",
    "- deve respeitar o formato padrão desse [exemplo de entrada](./exemplo_01_entrada.txt), sabendo que TODAS as restrições possuem sinal de menor ou igual (<=);\n",
    "- considerar que o arquivo de entrada estará sempre na mesma pasta que o código."
   ]
  },
  {
   "cell_type": "markdown",
   "metadata": {},
   "source": [
    "## Código explicado ##"
   ]
  },
  {
   "cell_type": "markdown",
   "metadata": {},
   "source": [
    "1. Será necessário um metodo de leitura de arquivo para a entrada dos dados:\n",
    "> Considerando que o arquivo que será lido esá na pasta raiz e que existe apenas um arquivo `.txt` "
   ]
  },
  {
   "cell_type": "code",
   "execution_count": 5,
   "metadata": {
    "tags": []
   },
   "outputs": [],
   "source": [
    "import os\n",
    "\n",
    "def get_values():\n",
    "    lines = []\n",
    "    files = os.listdir('.')\n",
    "    for f in files:\n",
    "        if f.endswith(\".txt\"):\n",
    "            f = open(f)\n",
    "            for line in f:\n",
    "                lines.append(line.replace(\"\\n\", \"\").split(\" \"))\n",
    "    variables = len(lines[0])\n",
    "    restrictions = len(lines) - 1\n",
    "    return lines, variables, restrictions"
   ]
  },
  {
   "cell_type": "markdown",
   "metadata": {},
   "source": [
    "2. Com os valores obtidos com o arquivo será gerado uma matriz numpy com linhas suficientes para cada restrição mais a função objetivo e colunas suficientes para as variáveis, variáveis de folga, M (máx.) E o valor correspondente."
   ]
  },
  {
   "cell_type": "code",
   "execution_count": 7,
   "metadata": {
    "tags": []
   },
   "outputs": [],
   "source": [
    "import numpy as np \n",
    "\n",
    "def generate_matrix(variables, restrictions):    \n",
    "    matrix = np.zeros((restrictions + 1, variables + restrictions + 2))    \n",
    "    return matrix"
   ]
  },
  {
   "cell_type": "markdown",
   "metadata": {},
   "source": [
    "3. Agora que a tabela está montada é hora de hora de separar a função objetivo das restrições. "
   ]
  },
  {
   "cell_type": "code",
   "execution_count": 9,
   "metadata": {},
   "outputs": [],
   "source": [
    "def get_objetive_restrictions(lines):\n",
    "    objetive = []\n",
    "    restrictions = []\n",
    "    for line in lines:\n",
    "        if lines.index(line) == 0:\n",
    "            objetive = line\n",
    "        else:\n",
    "            restrictions.append(line)\n",
    "    return objetive, restrictions"
   ]
  },
  {
   "cell_type": "markdown",
   "metadata": {},
   "source": [
    "4. Os valores obtidos no arquivo deveram ser convertidos de string em variáveis ​​float"
   ]
  },
  {
   "cell_type": "code",
   "execution_count": 11,
   "metadata": {},
   "outputs": [],
   "source": [
    "def convert(equation):\n",
    "    equation = [float(value) for value in equation]\n",
    "    return equation"
   ]
  },
  {
   "cell_type": "markdown",
   "metadata": {},
   "source": [
    "5. Com esses valores do arquivo e com o metodo escrito anteriormente, agora é o momento de preencher as restrições do problema na tabela. "
   ]
  },
  {
   "cell_type": "code",
   "execution_count": 13,
   "metadata": {},
   "outputs": [],
   "source": [
    "def constrain(table,restrictions):\n",
    "    for restriction in restrictions:    \n",
    "        lc = len(table[0,:])\n",
    "        lr = len(table[:,0])\n",
    "        var = lc - lr -1\n",
    "        j = 0\n",
    "        while j < lr:\n",
    "            row_check = table[j,:]\n",
    "            total = 0\n",
    "            for i in row_check:\n",
    "                total += float(i**2)\n",
    "            if total == 0:\n",
    "                row = row_check\n",
    "                break\n",
    "            j +=1 \n",
    "        restriction = convert(restriction)\n",
    "        i = 0\n",
    "        while i<len(restriction)-1:\n",
    "            row[i] = restriction[i]\n",
    "            i +=1\n",
    "        row[-1] = restriction[-1]\n",
    "        row[var+j] = 1"
   ]
  },
  {
   "cell_type": "markdown",
   "metadata": {},
   "source": [
    "6. Com a tabela já preenchida com as restrições é hora de adicionar a função objetivo à tabela."
   ]
  },
  {
   "cell_type": "code",
   "execution_count": 15,
   "metadata": {},
   "outputs": [],
   "source": [
    "def obj(table,eq):\n",
    "    eq = convert(eq)\n",
    "    lr = len(table[:,0])\n",
    "    row = table[lr-1,:]\n",
    "    for i in range(len(eq)):\n",
    "        row[i] = eq[i]*-1\n",
    "    row[-2] = 1"
   ]
  },
  {
   "cell_type": "markdown",
   "metadata": {},
   "source": [
    "A seguir, vamos verificar se 1+ pivôs são necessários devido a um elemento negativo na coluna mais à direita, excluindo o valor inferior, é claro."
   ]
  },
  {
   "cell_type": "code",
   "execution_count": 17,
   "metadata": {},
   "outputs": [],
   "source": [
    "def next_round_r(table):    \n",
    "    m = min(table[:-1,-1])    \n",
    "    if m>= 0:        \n",
    "        return False    \n",
    "    else:        \n",
    "        return True"
   ]
  },
  {
   "cell_type": "markdown",
   "metadata": {},
   "source": [
    "Da mesma forma, verificaremos se mais de 1 pivôs são necessários devido a um elemento negativo na linha inferior, excluindo o valor final."
   ]
  },
  {
   "cell_type": "code",
   "execution_count": 19,
   "metadata": {},
   "outputs": [],
   "source": [
    "def next_round(table):    \n",
    "    lr = len(table[:,0])   \n",
    "    m = min(table[lr-1,:-1])    \n",
    "    if m>=0:\n",
    "        return False\n",
    "    else:\n",
    "        return True"
   ]
  },
  {
   "cell_type": "markdown",
   "metadata": {},
   "source": [
    "E agora que criamos funções que retornam booleanos, sejam ou não necessários pivôs adicionais, precisamos determinar onde esses elementos estão localizados. Começaremos encontrando elementos negativos na coluna mais à direita."
   ]
  },
  {
   "cell_type": "code",
   "execution_count": 21,
   "metadata": {},
   "outputs": [],
   "source": [
    "def find_neg_r(table):\n",
    "    lc = len(table[0,:])\n",
    "    m = min(table[:-1,lc-1])\n",
    "    if m<=0:        \n",
    "        n = np.where(table[:-1,lc-1] == m)[0][0]\n",
    "    else:\n",
    "        n = None\n",
    "    return n"
   ]
  },
  {
   "cell_type": "markdown",
   "metadata": {},
   "source": [
    "Da mesma forma, precisamos localizar os elementos negativos na linha inferior"
   ]
  },
  {
   "cell_type": "code",
   "execution_count": 23,
   "metadata": {},
   "outputs": [],
   "source": [
    "def find_neg(table):\n",
    "    lr = len(table[:,0])\n",
    "    m = min(table[lr-1,:-1])\n",
    "    if m<=0:\n",
    "        n = np.where(table[lr-1,:-1] == m)[0][0]\n",
    "    else:\n",
    "        n = None\n",
    "    return n"
   ]
  },
  {
   "cell_type": "markdown",
   "metadata": {},
   "source": [
    "Recapitulando rapidamente, identificamos os índices de coluna e linha, respectivamente, para elementos negativos na última coluna, última linha. Mas precisamos dar um passo adiante e encontrar o elemento pivô correspondente a esses valores."
   ]
  },
  {
   "cell_type": "code",
   "execution_count": 25,
   "metadata": {},
   "outputs": [],
   "source": [
    "def loc_piv_r(table):\n",
    "    total = []        \n",
    "    r = find_neg_r(table)\n",
    "    row = table[r,:-1]\n",
    "    m = min(row)\n",
    "    c = np.where(row == m)[0][0]\n",
    "    col = table[:-1,c]\n",
    "    for i, b in zip(col,table[:-1,-1]):\n",
    "        if i**2>0 and b/i>0:\n",
    "            total.append(b/i)\n",
    "        else:                \n",
    "            total.append(10000)\n",
    "    index = total.index(min(total))        \n",
    "    return [index,c]"
   ]
  },
  {
   "cell_type": "markdown",
   "metadata": {},
   "source": [
    "Ok, isso é um pouco terrível de se olhar, então vamos dissecá-lo. Se você se lembra do vídeo, se vemos um elemento negativo na coluna mais à direita, precisamos procurar o valor mais negativo na mesma linha do quadro. Depois de encontrado, compararemos a coluna em que esse elemento está com a coluna final. Procuramos a relação menos positiva. A variável i itera na coluna que contém o elemento negativo, enquanto a variável b itera na coluna final. Se i NÃO for zero e b / i for maior que zero, acrescentamos à nossa lista total. Se ambas as condições não forem satisfeitas, inserimos 10.000 como espaço reservado. Em teoria, se estivéssemos otimizando números muito, muito grandes, essa não seria uma solução eficaz. Mas com números de tamanho razoável, 10.000 nunca será selecionado como a \"proporção menos positiva\".\n",
    "A seguir, vamos realizar uma tarefa muito semelhante; precisamos encontrar um elemento pivô correspondente a um elemento negativo na linha inferior."
   ]
  },
  {
   "cell_type": "code",
   "execution_count": 27,
   "metadata": {},
   "outputs": [],
   "source": [
    "def loc_piv(table):\n",
    "    if next_round(table):\n",
    "        total = []\n",
    "        n = find_neg(table)\n",
    "        for i,b in zip(table[:-1,n],table[:-1,-1]):\n",
    "            if b/i >0 and i**2>0:\n",
    "                total.append(b/i)\n",
    "            else:\n",
    "                total.append(10000)\n",
    "        index = total.index(min(total))\n",
    "        return [index,n]"
   ]
  },
  {
   "cell_type": "markdown",
   "metadata": {},
   "source": [
    "Agora, vamos finalmente construir a função pivô! O que precisamos fazer é girar sobre um elemento para remover a entrada negativa na coluna ou linha final e retornar a tabela atualizada."
   ]
  },
  {
   "cell_type": "code",
   "execution_count": 29,
   "metadata": {},
   "outputs": [],
   "source": [
    "def pivot(row,col,table):\n",
    "    lr = len(table[:,0])\n",
    "    lc = len(table[0,:])\n",
    "    t = np.zeros((lr,lc))\n",
    "    pr = table[row,:]\n",
    "    if table[row,col]**2>0:\n",
    "        e = 1/table[row,col]\n",
    "        r = pr*e\n",
    "        for i in range(len(table[:,col])):\n",
    "            k = table[i,:]\n",
    "            c = table[i,col]\n",
    "            if list(k) == list(pr):\n",
    "                continue\n",
    "            else:\n",
    "                t[i,:] = list(k-r*c)\n",
    "        t[row,:] = list(r)\n",
    "        return t\n",
    "    else:\n",
    "        print('Não é possível girar neste elemento.')"
   ]
  },
  {
   "cell_type": "markdown",
   "metadata": {},
   "source": [
    "Até agora, todas as funções que desenvolvemos são úteis para resolver problemas de maximização e minimização. O seguinte é necessário para resolver os problemas de minimização. Em problemas de maximização, M é o oposto da função objetivo. Ex: 4 (x1) + 2 (x2) torna-se -4 (x1) -2 (x2). No entanto, com problemas de minimização, a função objetivo é deixada \"como está\", geralmente falando, pois é o oposto da função objetivo de maximização."
   ]
  },
  {
   "cell_type": "code",
   "execution_count": 31,
   "metadata": {},
   "outputs": [],
   "source": [
    "def convert_min(table):\n",
    "    table[-1,:-2] = [-1*i for i in table[-1,:-2]]\n",
    "    table[-1,-1] = -1*table[-1,-1]    \n",
    "    return table"
   ]
  },
  {
   "cell_type": "markdown",
   "metadata": {},
   "source": [
    "Você pode notar que nossa função foi projetada para resolver qualquer combinação de variáveis ​​e restrições. Portanto, precisamos construir uma função que irá gerar apenas o número necessário de variáveis ​​x1, x2,… xn. Isso (abaixo) resolverá o problema!"
   ]
  },
  {
   "cell_type": "code",
   "execution_count": 32,
   "metadata": {},
   "outputs": [],
   "source": [
    "def gen_var(table):\n",
    "    lc = len(table[0,:])\n",
    "    lr = len(table[:,0])\n",
    "    var = lc - lr -1\n",
    "    v = []\n",
    "    for i in range(var):\n",
    "        v.append('x'+str(i+1))\n",
    "    return v"
   ]
  },
  {
   "cell_type": "markdown",
   "metadata": {},
   "source": [
    "Agora, agradeça a si mesmo por sua incrível paciência - finalmente é hora de colocar todos os blocos de construção juntos e criar as funções de maximização e minimização! Essas funções parecerão muito semelhantes, ambas usarão loops while para determinar se 1+ pivô é necessário, localize o elemento pivô, gire sobre ele e continue o processo até que todos os elementos negativos tenham sido removidos da última coluna e linha. Em seguida, as variáveis serão geradas para x1 a xn e valores atribuídos de acordo com suas posições no quadro. Além disso, max receberá seu valor apropriado. Por último, a função retornará o máximo e as variáveis na forma de dicionário."
   ]
  },
  {
   "cell_type": "code",
   "execution_count": 33,
   "metadata": {},
   "outputs": [],
   "source": [
    "def maxz(table):\n",
    "    while next_round_r(table)==True:\n",
    "        table = pivot(loc_piv_r(table)[0],loc_piv_r(table)[1],table)\n",
    "    while next_round(table)==True:\n",
    "        table = pivot(loc_piv(table)[0],loc_piv(table)[1],table)        \n",
    "    lc = len(table[0,:])\n",
    "    lr = len(table[:,0])\n",
    "    var = lc - lr -1\n",
    "    i = 0\n",
    "    val = {}\n",
    "    for i in range(var):\n",
    "        col = table[:,i]\n",
    "        s = sum(col)\n",
    "        m = max(col)\n",
    "        if float(s) == float(m):\n",
    "            loc = np.where(col == m)[0][0]            \n",
    "            val[gen_var(table)[i]] = table[loc,-1]\n",
    "        else:\n",
    "            val[gen_var(table)[i]] = 0\n",
    "    val['max'] = table[-1,-1]\n",
    "    return val"
   ]
  },
  {
   "cell_type": "code",
   "execution_count": 34,
   "metadata": {
    "tags": []
   },
   "outputs": [
    {
     "output_type": "stream",
     "name": "stdout",
     "text": "[[ 1.  0.  1.  0.  0.  0.  4.]\n [ 0.  1.  0.  1.  0.  0. 12.]\n [ 3.  2.  0.  0.  1.  0. 18.]\n [-3. -5.  0.  0.  0.  1.  0.]]\n{'x1': 0, 'x2': 9.0, 'max': 45.0}\n"
    }
   ],
   "source": [
    "if __name__ == \"__main__\":\n",
    "    #TODO: Inserir metodo de leitura de arquivo (OK)\n",
    "    #TODO: Quebrar valores lidos no arquivo em variavies (OK)\n",
    "    #TODO: Modificar metodo gen_matrix, para receber variaveis (OK)\n",
    "    lines, variables, restrictions = get_values()\n",
    "    m = generate_matrix(variables, restrictions)\n",
    "    objetive, restrictions = get_objetive_restrictions(lines)\n",
    "    constrain(m,restrictions)\n",
    "    obj(m,objetive)\n",
    "    print (m)\n",
    "    print(maxz(m))"
   ]
  }
 ]
}